{
  "nbformat": 4,
  "nbformat_minor": 0,
  "metadata": {
    "colab": {
      "provenance": []
    },
    "kernelspec": {
      "name": "python3",
      "display_name": "Python 3"
    },
    "language_info": {
      "name": "python"
    },
    "accelerator": "GPU",
    "gpuClass": "standard"
  },
  "cells": [
    {
      "cell_type": "code",
      "execution_count": 3,
      "metadata": {
        "id": "deZ6O1pihMEC"
      },
      "outputs": [],
      "source": [
        "import numpy as np\n",
        "from nltk.tokenize import RegexpTokenizer\n",
        "from keras.models import Sequential, load_model\n",
        "from keras.layers import LSTM\n",
        "from keras.layers.core import Dense, Activation\n",
        "from keras.optimizers import RMSprop\n",
        "import matplotlib.pyplot as plt\n",
        "import pickle\n",
        "import heapq"
      ]
    },
    {
      "cell_type": "code",
      "source": [
        "path = '1661-0.txt'\n",
        "txt = open(path).read().lower()"
      ],
      "metadata": {
        "id": "AA3-RO8SDBoZ"
      },
      "execution_count": 4,
      "outputs": []
    },
    {
      "cell_type": "code",
      "source": [
        "print(len(txt))"
      ],
      "metadata": {
        "colab": {
          "base_uri": "https://localhost:8080/"
        },
        "id": "2Useyf1GDHTK",
        "outputId": "3c4f75a6-0593-4059-9e36-aaf4c394531d"
      },
      "execution_count": 5,
      "outputs": [
        {
          "output_type": "stream",
          "name": "stdout",
          "text": [
            "581888\n"
          ]
        }
      ]
    },
    {
      "cell_type": "code",
      "source": [
        "tokenizer = RegexpTokenizer(r'\\w+')\n",
        "words = tokenizer.tokenize(txt)"
      ],
      "metadata": {
        "id": "HhS6CHzHEiUS"
      },
      "execution_count": 6,
      "outputs": []
    },
    {
      "cell_type": "code",
      "source": [
        "unique_words = np.unique(words)\n",
        "unique_word_index = dict((c, i) for i, c in enumerate(unique_words))"
      ],
      "metadata": {
        "id": "L6YWZLQgEz_8"
      },
      "execution_count": 7,
      "outputs": []
    },
    {
      "cell_type": "code",
      "source": [
        "Word_len = 5\n",
        "previous_words = []\n",
        "next_words = []\n",
        "for i in range(len(words) - Word_len):\n",
        "    previous_words.append(words[i:i + Word_len])\n",
        "    next_words.append(words[i + Word_len])\n",
        "print(previous_words[0])\n",
        "print(next_words[0])"
      ],
      "metadata": {
        "colab": {
          "base_uri": "https://localhost:8080/"
        },
        "id": "fG0pP8DGJdJP",
        "outputId": "56cd25ce-8d44-4bd2-fbcf-8886275e2afd"
      },
      "execution_count": 8,
      "outputs": [
        {
          "output_type": "stream",
          "name": "stdout",
          "text": [
            "['project', 'gutenberg', 's', 'the', 'adventures']\n",
            "of\n"
          ]
        }
      ]
    },
    {
      "cell_type": "code",
      "source": [
        "X = np.zeros((len(previous_words), Word_len, len(unique_words)), dtype=bool)\n",
        "Y = np.zeros((len(next_words), len(unique_words)), dtype=bool)"
      ],
      "metadata": {
        "id": "rEO3FaLWKFDu"
      },
      "execution_count": 9,
      "outputs": []
    },
    {
      "cell_type": "code",
      "source": [
        "for i, each_words in enumerate(previous_words):\n",
        "    for j, each_word in enumerate(each_words):\n",
        "        X[i, j, unique_word_index[each_word]] = 1\n",
        "    Y[i, unique_word_index[next_words[i]]] = 1"
      ],
      "metadata": {
        "id": "LcYOoq1gKQnb"
      },
      "execution_count": 10,
      "outputs": []
    },
    {
      "cell_type": "code",
      "source": [
        "print(X[1][1])"
      ],
      "metadata": {
        "colab": {
          "base_uri": "https://localhost:8080/"
        },
        "id": "STBEODLRKX3D",
        "outputId": "a84937da-e34a-4108-a494-b85defc7ad95"
      },
      "execution_count": 11,
      "outputs": [
        {
          "output_type": "stream",
          "name": "stdout",
          "text": [
            "[False False False ... False False False]\n"
          ]
        }
      ]
    },
    {
      "cell_type": "code",
      "source": [
        "model = Sequential()\n",
        "model.add(LSTM(128, input_shape=(Word_len, len(unique_words))))\n",
        "model.add(Dense(len(unique_words)))\n",
        "model.add(Activation('softmax'))"
      ],
      "metadata": {
        "id": "q3qklKCBKf2x"
      },
      "execution_count": 12,
      "outputs": []
    },
    {
      "cell_type": "code",
      "source": [
        "optimizer = RMSprop(lr=0.01)\n",
        "model.compile(loss='categorical_crossentropy', optimizer=optimizer, metrics=['accuracy'])\n",
        "history = model.fit(X, Y, validation_split=0.05, batch_size=128, epochs=20, shuffle=True).history"
      ],
      "metadata": {
        "colab": {
          "base_uri": "https://localhost:8080/"
        },
        "id": "tg6tM0ZrKuHv",
        "outputId": "2a08768f-2918-411e-9dff-31efc6e2cee6"
      },
      "execution_count": 13,
      "outputs": [
        {
          "output_type": "stream",
          "name": "stderr",
          "text": [
            "/usr/local/lib/python3.8/dist-packages/keras/optimizers/optimizer_v2/rmsprop.py:143: UserWarning: The `lr` argument is deprecated, use `learning_rate` instead.\n",
            "  super().__init__(name, **kwargs)\n"
          ]
        },
        {
          "output_type": "stream",
          "name": "stdout",
          "text": [
            "Epoch 1/20\n",
            "811/811 [==============================] - 21s 17ms/step - loss: 6.0148 - accuracy: 0.1065 - val_loss: 7.1202 - val_accuracy: 0.0989\n",
            "Epoch 2/20\n",
            "811/811 [==============================] - 13s 16ms/step - loss: 5.7683 - accuracy: 0.1472 - val_loss: 7.8909 - val_accuracy: 0.1038\n",
            "Epoch 3/20\n",
            "811/811 [==============================] - 13s 17ms/step - loss: 5.7690 - accuracy: 0.1738 - val_loss: 7.9551 - val_accuracy: 0.1027\n",
            "Epoch 4/20\n",
            "811/811 [==============================] - 12s 15ms/step - loss: 5.4205 - accuracy: 0.2092 - val_loss: 8.1330 - val_accuracy: 0.1036\n",
            "Epoch 5/20\n",
            "811/811 [==============================] - 13s 16ms/step - loss: 5.0637 - accuracy: 0.2486 - val_loss: 8.3843 - val_accuracy: 0.0950\n",
            "Epoch 6/20\n",
            "811/811 [==============================] - 12s 15ms/step - loss: 4.7304 - accuracy: 0.2890 - val_loss: 8.5226 - val_accuracy: 0.0879\n",
            "Epoch 7/20\n",
            "811/811 [==============================] - 12s 15ms/step - loss: 4.4418 - accuracy: 0.3319 - val_loss: 8.6486 - val_accuracy: 0.0846\n",
            "Epoch 8/20\n",
            "811/811 [==============================] - 13s 16ms/step - loss: 4.1904 - accuracy: 0.3712 - val_loss: 8.8994 - val_accuracy: 0.0767\n",
            "Epoch 9/20\n",
            "811/811 [==============================] - 13s 16ms/step - loss: 4.0138 - accuracy: 0.4014 - val_loss: 8.9147 - val_accuracy: 0.0802\n",
            "Epoch 10/20\n",
            "811/811 [==============================] - 12s 15ms/step - loss: 3.9092 - accuracy: 0.4291 - val_loss: 9.2506 - val_accuracy: 0.0782\n",
            "Epoch 11/20\n",
            "811/811 [==============================] - 12s 15ms/step - loss: 3.8329 - accuracy: 0.4543 - val_loss: 9.2289 - val_accuracy: 0.0765\n",
            "Epoch 12/20\n",
            "811/811 [==============================] - 12s 15ms/step - loss: 3.7517 - accuracy: 0.4774 - val_loss: 9.5895 - val_accuracy: 0.0732\n",
            "Epoch 13/20\n",
            "811/811 [==============================] - 12s 15ms/step - loss: 3.6535 - accuracy: 0.5012 - val_loss: 9.8172 - val_accuracy: 0.0732\n",
            "Epoch 14/20\n",
            "811/811 [==============================] - 12s 15ms/step - loss: 3.5551 - accuracy: 0.5204 - val_loss: 9.6964 - val_accuracy: 0.0696\n",
            "Epoch 15/20\n",
            "811/811 [==============================] - 13s 16ms/step - loss: 3.4679 - accuracy: 0.5384 - val_loss: 10.0368 - val_accuracy: 0.0703\n",
            "Epoch 16/20\n",
            "811/811 [==============================] - 13s 16ms/step - loss: 3.3924 - accuracy: 0.5543 - val_loss: 10.0141 - val_accuracy: 0.0676\n",
            "Epoch 17/20\n",
            "811/811 [==============================] - 12s 15ms/step - loss: 3.3203 - accuracy: 0.5673 - val_loss: 10.0472 - val_accuracy: 0.0707\n",
            "Epoch 18/20\n",
            "811/811 [==============================] - 13s 15ms/step - loss: 3.2723 - accuracy: 0.5781 - val_loss: 10.4005 - val_accuracy: 0.0643\n",
            "Epoch 19/20\n",
            "811/811 [==============================] - 13s 16ms/step - loss: 3.2315 - accuracy: 0.5883 - val_loss: 10.4196 - val_accuracy: 0.0677\n",
            "Epoch 20/20\n",
            "811/811 [==============================] - 12s 15ms/step - loss: 3.2124 - accuracy: 0.5949 - val_loss: 10.6583 - val_accuracy: 0.0613\n"
          ]
        }
      ]
    },
    {
      "cell_type": "code",
      "source": [
        "plt.plot(history['accuracy'])\n",
        "plt.plot(history['val_accuracy'])\n",
        "plt.title('model accuracy')\n",
        "plt.ylabel('accuracy')\n",
        "plt.xlabel('epoch')\n",
        "plt.legend(['train', 'test'], loc='upper left')"
      ],
      "metadata": {
        "colab": {
          "base_uri": "https://localhost:8080/",
          "height": 312
        },
        "id": "LKITdglqO9uK",
        "outputId": "5cf0cce2-a922-4fbb-cfec-a6cf77b328c4"
      },
      "execution_count": 14,
      "outputs": [
        {
          "output_type": "execute_result",
          "data": {
            "text/plain": [
              "<matplotlib.legend.Legend at 0x7f3810c76340>"
            ]
          },
          "metadata": {},
          "execution_count": 14
        },
        {
          "output_type": "display_data",
          "data": {
            "text/plain": [
              "<Figure size 432x288 with 1 Axes>"
            ],
            "image/png": "[encoded data removed]"
          },
          "metadata": {
            "needs_background": "light"
          }
        }
      ]
    },
    {
      "cell_type": "code",
      "source": [
        "plt.plot(history['loss'])\n",
        "plt.plot(history['val_loss'])\n",
        "plt.title('model loss')\n",
        "plt.ylabel('loss')\n",
        "plt.xlabel('epoch')\n",
        "plt.legend(['train', 'test'], loc='upper left')"
      ],
      "metadata": {
        "colab": {
          "base_uri": "https://localhost:8080/",
          "height": 312
        },
        "id": "gbtHybrDT9vr",
        "outputId": "4a5fdd38-d084-43e7-d51b-614e872dafbe"
      },
      "execution_count": 15,
      "outputs": [
        {
          "output_type": "execute_result",
          "data": {
            "text/plain": [
              "<matplotlib.legend.Legend at 0x7f3810bdf160>"
            ]
          },
          "metadata": {},
          "execution_count": 15
        },
        {
          "output_type": "display_data",
          "data": {
            "text/plain": [
              "<Figure size 432x288 with 1 Axes>"
            ],
            "image/png": "[encoded data removed]"
          },
          "metadata": {
            "needs_background": "light"
          }
        }
      ]
    },
    {
      "cell_type": "code",
      "source": [
        "def prepare_input(text):\n",
        "    x = np.zeros((1, Word_len, len(unique_words)))\n",
        "    for t, word in enumerate(text.split()):\n",
        "        print(word)\n",
        "        x[0, t, unique_word_index[word]] = 1\n",
        "    return x\n",
        "prepare_input(\"It is not a lack\".lower())"
      ],
      "metadata": {
        "colab": {
          "base_uri": "https://localhost:8080/"
        },
        "id": "GUPoaC_UUQSr",
        "outputId": "63eb39c6-a044-45d3-8f05-2725d871de59"
      },
      "execution_count": 17,
      "outputs": [
        {
          "output_type": "stream",
          "name": "stdout",
          "text": [
            "it\n",
            "is\n",
            "not\n",
            "a\n",
            "lack\n"
          ]
        },
        {
          "output_type": "execute_result",
          "data": {
            "text/plain": [
              "array([[[0., 0., 0., ..., 0., 0., 0.],\n",
              "        [0., 0., 0., ..., 0., 0., 0.],\n",
              "        [0., 0., 0., ..., 0., 0., 0.],\n",
              "        [0., 0., 0., ..., 0., 0., 0.],\n",
              "        [0., 0., 0., ..., 0., 0., 0.]]])"
            ]
          },
          "metadata": {},
          "execution_count": 17
        }
      ]
    },
    {
      "cell_type": "code",
      "source": [
        "def sample(preds, top_n=3):\n",
        "    preds = np.asarray(preds).astype('float64')\n",
        "    preds = np.log(preds)\n",
        "    exp_preds = np.exp(preds)\n",
        "    preds = exp_preds / np.sum(exp_preds)\n",
        "    return heapq.nlargest(top_n, range(len(preds)), preds.take)"
      ],
      "metadata": {
        "id": "VyyQPW-OUX6N"
      },
      "execution_count": 18,
      "outputs": []
    },
    {
      "cell_type": "code",
      "source": [
        "def predict_completions(text, n=3):\n",
        "    if text == \"\":\n",
        "        return(\"0\")\n",
        "    x = prepare_input(text)\n",
        "    preds = model.predict(x, verbose=0)[0]\n",
        "    next_indices = sample(preds, n)\n",
        "    return [unique_words[idx] for idx in next_indices]"
      ],
      "metadata": {
        "id": "0m30xlfJUbtE"
      },
      "execution_count": 19,
      "outputs": []
    },
    {
      "cell_type": "code",
      "source": [
        "q =  \"Your life will never be there in the same situation again\"\n",
        "print(\"correct sentence: \",q)\n",
        "seq = \" \".join(tokenizer.tokenize(q.lower())[0:5])\n",
        "print(\"Sequence: \",seq)\n",
        "print(\"next possible words: \", predict_completions(seq, 5))"
      ],
      "metadata": {
        "colab": {
          "base_uri": "https://localhost:8080/"
        },
        "id": "n3gcY0DLUgHr",
        "outputId": "3a3a79b2-62d6-4f10-d707-63910f0af236"
      },
      "execution_count": 20,
      "outputs": [
        {
          "output_type": "stream",
          "name": "stdout",
          "text": [
            "correct sentence:  Your life will never be there in the same situation again\n",
            "Sequence:  your life will never be\n",
            "your\n",
            "life\n",
            "will\n",
            "never\n",
            "be\n",
            "next possible words:  ['so', 'of', 'very', 'room', 'wife']\n"
          ]
        }
      ]
    }
  ]
}